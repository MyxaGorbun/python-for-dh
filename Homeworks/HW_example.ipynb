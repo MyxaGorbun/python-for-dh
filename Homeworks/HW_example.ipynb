{
 "cells": [
  {
   "cell_type": "markdown",
   "metadata": {
    "collapsed": true
   },
   "source": [
    "# Пример сданной домашней работы на Python. Ячейки подобные тем, что ниже, должны быть в ваших работах. То есть должна быть ячейка с номером домашней работы, видом (оцениваемое/неоцениваемое) работы, названием работы; ячейки с названиями да формулировками каждой задачи; сами ячейки с кодом и результатами его выполнения. То, как сделаны заголовки в этом файле можно посмотреть, скачав его, загрузив в свой Jupyter Notebook, дважды нажав на интересующее название."
   ]
  },
  {
   "cell_type": "markdown",
   "metadata": {},
   "source": [
    "# ДЗ0 Неоцениваемое (Пример ДЗ по Python)"
   ]
  },
  {
   "cell_type": "markdown",
   "metadata": {},
   "source": [
    "## Задание 1\n",
    "Сделайте так, чтобы программа погавкала, а потом помяукала."
   ]
  },
  {
   "cell_type": "code",
   "execution_count": 1,
   "metadata": {},
   "outputs": [
    {
     "name": "stdout",
     "output_type": "stream",
     "text": [
      "Гав! Гав! \n",
      "Мяу! Мяу!\n"
     ]
    }
   ],
   "source": [
    "print(\"Гав! \" * 2)\n",
    "print(\"Мяу! \" + \"Мяу!\")"
   ]
  },
  {
   "cell_type": "markdown",
   "metadata": {},
   "source": [
    "## Задание 2\n",
    "Дается число n от 0 до 10. Посчитайте остаток от деления числа 154 на n."
   ]
  },
  {
   "cell_type": "code",
   "execution_count": 2,
   "metadata": {},
   "outputs": [
    {
     "name": "stdout",
     "output_type": "stream",
     "text": [
      "2\n"
     ]
    }
   ],
   "source": [
    "n = 8\n",
    "mod = 154 % n\n",
    "print(mod)  # Или просто print(154 % n)"
   ]
  }
 ],
 "metadata": {
  "kernelspec": {
   "display_name": "Python 3",
   "language": "python",
   "name": "python3"
  },
  "language_info": {
   "codemirror_mode": {
    "name": "ipython",
    "version": 3
   },
   "file_extension": ".py",
   "mimetype": "text/x-python",
   "name": "python",
   "nbconvert_exporter": "python",
   "pygments_lexer": "ipython3",
   "version": "3.6.0"
  }
 },
 "nbformat": 4,
 "nbformat_minor": 1
}
